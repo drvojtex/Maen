{
 "cells": [
  {
   "cell_type": "markdown",
   "metadata": {},
   "source": [
    "# CDalgs - correlations explorations on fsv dataset\n",
    "\n",
    "There are examples of correlations between agents features."
   ]
  },
  {
   "cell_type": "markdown",
   "metadata": {},
   "source": [
    "Load libraries"
   ]
  },
  {
   "cell_type": "code",
   "execution_count": 1,
   "metadata": {},
   "outputs": [
    {
     "name": "stderr",
     "output_type": "stream",
     "text": [
      "\u001b[36m\u001b[1m[ \u001b[22m\u001b[39m\u001b[36m\u001b[1mInfo: \u001b[22m\u001b[39mPrecompiling DataFrames [a93c6f00-e57d-5684-b7b6-d8193f3e46c0]\n",
      "\u001b[36m\u001b[1m[ \u001b[22m\u001b[39m\u001b[36m\u001b[1mInfo: \u001b[22m\u001b[39mPrecompiling LinRegOutliers [6d4de0fb-32d9-4c65-aac1-cc9ed8b94b1a]\n",
      "\u001b[36m\u001b[1m[ \u001b[22m\u001b[39m\u001b[36m\u001b[1mInfo: \u001b[22m\u001b[39mPrecompiling Plots [91a5bcdd-55d7-5caf-9e0b-520d859cae80]\n"
     ]
    }
   ],
   "source": [
    "using BSON, DataFrames\n",
    "using LinRegOutliers, StatsBase\n",
    "using Plots"
   ]
  },
  {
   "cell_type": "markdown",
   "metadata": {},
   "source": [
    "Load dataset"
   ]
  },
  {
   "cell_type": "code",
   "execution_count": 2,
   "metadata": {},
   "outputs": [],
   "source": [
    "dataset_a = BSON.load(\"data/dataset_a.bson\")\n",
    "data = dataset_a[:data_tensor].*(-1);\n",
    "params = Matrix(dataset_a[:parameters]);"
   ]
  },
  {
   "cell_type": "markdown",
   "metadata": {},
   "source": [
    "Normalise data"
   ]
  },
  {
   "cell_type": "code",
   "execution_count": 3,
   "metadata": {},
   "outputs": [],
   "source": [
    "function normalise(d)\n",
    "    z(s, μ, σ, ϵ) = (s - μ) / (σ + ϵ)\n",
    "    for i=1:size(d)[2]\n",
    "        tmp = d[:, i]\n",
    "        d[:, i] = z.(tmp, mean(tmp), std(tmp), 10e-10)\n",
    "    end\n",
    "    return d\n",
    "end\n",
    "\n",
    "deflection = normalise(data[:, :, 1]);\n",
    "loads = normalise(data[:, :, 2]);\n",
    "\n",
    "for i=1:4\n",
    "    params[:,i] .-= minimum(params[:,i])\n",
    "    params[:,i] ./= maximum(params[:,i])\n",
    "end\n"
   ]
  },
  {
   "cell_type": "markdown",
   "metadata": {},
   "source": [
    "Plot with outliers filtering"
   ]
  },
  {
   "cell_type": "code",
   "execution_count": 7,
   "metadata": {},
   "outputs": [
    {
     "data": {
      "text/plain": [
       "corroutliers (generic function with 1 method)"
      ]
     },
     "execution_count": 7,
     "metadata": {},
     "output_type": "execute_result"
    }
   ],
   "source": [
    "function corroutliers(df::DataFrame, xlabel::String, ylabel::String)\n",
    "    reg = createRegressionSetting(@formula(y~x), df)\n",
    "    outliers = ccf(reg)[\"outliers\"]\n",
    "    p = plot(xlabel = xlabel, \n",
    "             ylabel = ylabel)\n",
    "    scatter!(df[findall(x -> x ∉ outliers, 1:size(df)[1]), :x], \n",
    "             df[findall(x -> x ∉ outliers, 1:size(df)[1]), :y], \n",
    "             label = false)\n",
    "    #=\n",
    "    scatter!(df[findall(x -> x ∈ outliers, 1:size(df)[1]), :x], \n",
    "             df[findall(x -> x ∈ outliers, 1:size(df)[1]), :y], \n",
    "             color=:red, label = \"outliers\")\n",
    "    =#\n",
    "    return p\n",
    "end"
   ]
  },
  {
   "cell_type": "markdown",
   "metadata": {},
   "source": [
    "Show correlations"
   ]
  },
  {
   "cell_type": "code",
   "execution_count": 12,
   "metadata": {},
   "outputs": [
    {
     "data": {
      "text/plain": [
       "\"/Users/drvojtex/Library/Mobile Documents/com~apple~CloudDocs/Codes/Maen/examples/fsv/peak_loads.pdf\""
      ]
     },
     "execution_count": 12,
     "metadata": {},
     "output_type": "execute_result"
    }
   ],
   "source": [
    "peak_load = []\n",
    "for l in eachrow(data[:,:,2])\n",
    "    append!(peak_load, maximum(l))\n",
    "end\n",
    "\n",
    "p1 = corroutliers(DataFrame(y=params[:, 1], x=peak_load), \"peak load\", \"Ec\")\n",
    "p2 = corroutliers(DataFrame(y=params[:, 2], x=peak_load), \"peak load\", \"Fc\")\n",
    "p3 = corroutliers(DataFrame(y=params[:, 3], x=peak_load), \"peak load\", \"Ft\")\n",
    "p4 = corroutliers(DataFrame(y=params[:, 4], x=peak_load), \"peak load\", \"Gf\")\n",
    "\n",
    "p = plot(p1, p2, p3, p4, layout=(2,2))#, xticks=(1, \"\"), yticks=(1, \"\"))\n",
    "#p[:plot_title] = \"Params by peak load\"\n",
    "plot(p)"
   ]
  },
  {
   "cell_type": "code",
   "execution_count": 11,
   "metadata": {},
   "outputs": [
    {
     "data": {
      "text/plain": [
       "\"/Users/drvojtex/Library/Mobile Documents/com~apple~CloudDocs/Codes/Maen/examples/fsv/peak_deflection.pdf\""
      ]
     },
     "execution_count": 11,
     "metadata": {},
     "output_type": "execute_result"
    }
   ],
   "source": [
    "peak_deflection = []\n",
    "for (l, d) in zip(eachrow(data[:,:,2]), eachrow(data[:,:,1]))\n",
    "    append!(peak_deflection, d[argmax(l)])\n",
    "end\n",
    "\n",
    "p1 = corroutliers(DataFrame(y=params[:, 1], x=peak_deflection), \"peak deflection\", \"Ec\")\n",
    "p2 = corroutliers(DataFrame(y=params[:, 2], x=peak_deflection), \"peak deflection\", \"Fc\")\n",
    "p3 = corroutliers(DataFrame(y=params[:, 3], x=peak_deflection), \"peak deflection\", \"Ft\")\n",
    "p4 = corroutliers(DataFrame(y=params[:, 4], x=peak_deflection), \"peak deflection\", \"Gf\")\n",
    "\n",
    "p = plot(p1, p2, p3, p4, layout=(2,2))#, xticks=(1, \"\"), yticks=(1, \"\"))\n",
    "#p[:plot_title] = \"Params by peak deflection\"\n",
    "plot(p)"
   ]
  }
 ],
 "metadata": {
  "@webio": {
   "lastCommId": null,
   "lastKernelId": null
  },
  "kernelspec": {
   "display_name": "Julia 1.8.3",
   "language": "julia",
   "name": "julia-1.8"
  },
  "language_info": {
   "file_extension": ".jl",
   "mimetype": "application/julia",
   "name": "julia",
   "version": "1.8.3"
  },
  "vscode": {
   "interpreter": {
    "hash": "60aa0a847b2a6c4771b6f0a4a09c35a6025b095fa5d9ee644f9ad21b1db0180c"
   }
  }
 },
 "nbformat": 4,
 "nbformat_minor": 2
}
